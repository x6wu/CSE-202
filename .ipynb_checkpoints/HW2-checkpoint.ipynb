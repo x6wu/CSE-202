{
 "cells": [
  {
   "cell_type": "code",
   "execution_count": 16,
   "metadata": {},
   "outputs": [
    {
     "ename": "SyntaxError",
     "evalue": "invalid syntax (<ipython-input-16-5fc01ce8fda7>, line 7)",
     "output_type": "error",
     "traceback": [
      "\u001b[1;36m  File \u001b[1;32m\"<ipython-input-16-5fc01ce8fda7>\"\u001b[1;36m, line \u001b[1;32m7\u001b[0m\n\u001b[1;33m    self.edges =\u001b[0m\n\u001b[1;37m                 ^\u001b[0m\n\u001b[1;31mSyntaxError\u001b[0m\u001b[1;31m:\u001b[0m invalid syntax\n"
     ]
    }
   ],
   "source": [
    "import random\n",
    "import numpy as np\n",
    "import heapq\n",
    "\n",
    "class Graph:\n",
    "    def __init__(self):\n",
    "        self.nodes = set()\n",
    "        self.edges = \n",
    "\n",
    "def randomNumberGenerator(p):\n",
    "    values = [0, 1]\n",
    "    probabilities = [p, 1-p]\n",
    "    return np.random.choice(values, 1, p=probabilities)\n",
    "    \n",
    "def matrixGenerator(n, p):\n",
    "    Matrix = [[0 for x in range(n)] for y in range(n)]\n",
    "    for i in range(0, n):\n",
    "        for j in range(i+1, n):\n",
    "            ret = randomNumberGenerator(p)\n",
    "            if(ret == 0):\n",
    "                Matrix[i][j] = 0\n",
    "                Matrix[j][i] = 0\n",
    "            else:\n",
    "                Matrix[i][j] = 1\n",
    "                Matrix[j][i] = 1\n",
    "                \n",
    "    return Matrix\n",
    "\n",
    "def Dijkstra\n"
   ]
  },
  {
   "cell_type": "code",
   "execution_count": 17,
   "metadata": {},
   "outputs": [
    {
     "data": {
      "text/plain": [
       "[[0, 1, 1, 1, 0, 1, 1, 1, 1, 0],\n",
       " [1, 0, 1, 0, 1, 1, 1, 1, 1, 0],\n",
       " [1, 1, 0, 0, 0, 0, 0, 1, 1, 1],\n",
       " [1, 0, 0, 0, 1, 1, 1, 1, 1, 0],\n",
       " [0, 1, 0, 1, 0, 1, 1, 1, 0, 1],\n",
       " [1, 1, 0, 1, 1, 0, 1, 1, 0, 1],\n",
       " [1, 1, 0, 1, 1, 1, 0, 1, 0, 1],\n",
       " [1, 1, 1, 1, 1, 1, 1, 0, 1, 1],\n",
       " [1, 1, 1, 1, 0, 0, 0, 1, 0, 0],\n",
       " [0, 0, 1, 0, 1, 1, 1, 1, 0, 0]]"
      ]
     },
     "execution_count": 17,
     "metadata": {},
     "output_type": "execute_result"
    }
   ],
   "source": [
    "matrixGenerator(10, 0.3)"
   ]
  },
  {
   "cell_type": "code",
   "execution_count": null,
   "metadata": {},
   "outputs": [],
   "source": []
  }
 ],
 "metadata": {
  "kernelspec": {
   "display_name": "Python 3",
   "language": "python",
   "name": "python3"
  },
  "language_info": {
   "codemirror_mode": {
    "name": "ipython",
    "version": 3
   },
   "file_extension": ".py",
   "mimetype": "text/x-python",
   "name": "python",
   "nbconvert_exporter": "python",
   "pygments_lexer": "ipython3",
   "version": "3.6.4"
  }
 },
 "nbformat": 4,
 "nbformat_minor": 2
}
